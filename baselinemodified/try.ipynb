{
 "cells": [
  {
   "cell_type": "code",
   "execution_count": 31,
   "metadata": {},
   "outputs": [],
   "source": [
    "import torch\n",
    "import wandb\n",
    "import hydra\n",
    "from tqdm import tqdm\n",
    "import torchvision\n",
    "from hydra.utils import instantiate\n",
    "import os\n",
    "from torch.utils.data import Dataset, DataLoader\n",
    "from PIL import Image\n",
    "import pandas as pd\n",
    "import torch"
   ]
  },
  {
   "cell_type": "code",
   "execution_count": 34,
   "metadata": {},
   "outputs": [
    {
     "ename": "ImportError",
     "evalue": "cannot import name 'Cutout' from 'cutout' (/Users/caffin/Desktop/INF473V/gitforinf473/baselinemodified/cutout.py)",
     "output_type": "error",
     "traceback": [
      "\u001b[0;31m---------------------------------------------------------------------------\u001b[0m",
      "\u001b[0;31mImportError\u001b[0m                               Traceback (most recent call last)",
      "Cell \u001b[0;32mIn[34], line 1\u001b[0m\n\u001b[0;32m----> 1\u001b[0m \u001b[39mfrom\u001b[39;00m \u001b[39mcutout\u001b[39;00m \u001b[39mimport\u001b[39;00m Cutout\n\u001b[1;32m      2\u001b[0m cut \u001b[39m=\u001b[39m Cutout(\u001b[39m1\u001b[39m, \u001b[39m3\u001b[39m)\n\u001b[1;32m      3\u001b[0m imgs \u001b[39m=\u001b[39m torch\u001b[39m.\u001b[39mTensor(\u001b[39m2\u001b[39m,\u001b[39m3\u001b[39m,\u001b[39m10\u001b[39m,\u001b[39m10\u001b[39m)\n",
      "\u001b[0;31mImportError\u001b[0m: cannot import name 'Cutout' from 'cutout' (/Users/caffin/Desktop/INF473V/gitforinf473/baselinemodified/cutout.py)"
     ]
    }
   ],
   "source": [
    "from cutout import Cutout\n",
    "cut = Cutout(1, 3)\n",
    "imgs = torch.Tensor(2,3,10,10)\n",
    "cut(imgs)"
   ]
  },
  {
   "cell_type": "code",
   "execution_count": 30,
   "metadata": {},
   "outputs": [
    {
     "data": {
      "text/plain": [
       "(tensor([9, 4, 7, 0, 8, 3, 5, 6, 2, 1]),\n",
       " tensor([9, 4, 7, 0, 8, 3, 5, 6, 2, 1]))"
      ]
     },
     "execution_count": 30,
     "metadata": {},
     "output_type": "execute_result"
    }
   ],
   "source": [
    "permutation = torch.randperm(10)\n",
    "indexs = permutation[0:20]\n",
    "permutation, indexs"
   ]
  },
  {
   "cell_type": "code",
   "execution_count": null,
   "metadata": {},
   "outputs": [],
   "source": [
    "from torchvision.transforms import transforms\n",
    "from RandAugment import RandAugment\n",
    "\n",
    "transform_train = transforms.Compose([\n",
    "    transforms.RandomCrop(32, padding=4),\n",
    "    transforms.RandomHorizontalFlip(),\n",
    "    transforms.ToTensor(),\n",
    "    transforms.Normalize(mean=[0.485, 0.456, 0.406],\n",
    "    std=[0.229, 0.224, 0.225]),\n",
    "])\n",
    "\n",
    "# Add RandAugment with N, M(hyperparameter)\n",
    "transform_train.transforms.insert(0, RandAugment(4, 5))"
   ]
  },
  {
   "cell_type": "code",
   "execution_count": 28,
   "metadata": {},
   "outputs": [
    {
     "data": {
      "text/plain": [
       "tensor([False,  True,  True,  True,  True,  True,  True])"
      ]
     },
     "execution_count": 28,
     "metadata": {},
     "output_type": "execute_result"
    }
   ],
   "source": [
    "test = torch.tensor([1,3,4,2,5,7,3])\n",
    "(test>1)"
   ]
  },
  {
   "cell_type": "code",
   "execution_count": null,
   "metadata": {},
   "outputs": [],
   "source": [
    "torchvision.transforms.ToTensor()"
   ]
  },
  {
   "cell_type": "code",
   "execution_count": 23,
   "metadata": {},
   "outputs": [],
   "source": [
    "class unlabelledDataset(Dataset):\n",
    "    def __init__(self, test_dataset_path):\n",
    "        self.test_dataset_path = test_dataset_path\n",
    "        images_list = os.listdir(self.test_dataset_path)\n",
    "        # filter out non-image files\n",
    "        self.images_list = [image for image in images_list if image.endswith(\".jpg\")]\n",
    "        # set a non exist label\n",
    "        self.labels = [48] * len(self.images_list)\n",
    "        self.labels = torch.tensor(self.labels).type(torch.LongTensor)\n",
    "\n",
    "    def __getitem__(self, idx):\n",
    "        image_name = self.images_list[idx]\n",
    "        label = self.labels[idx]\n",
    "        image_path = os.path.join(self.test_dataset_path, image_name)\n",
    "        image = Image.open(image_path)\n",
    "        return image, label, idx\n",
    "\n",
    "    def __len__(self):\n",
    "        return len(self.images_list)\n",
    "    \n",
    "    def set_label(self, newlabel, idx):\n",
    "         self.labels[idx] = newlabel\n",
    "dataload = unlabelledDataset('dataset/unlabelled/')\n",
    "for i in dataload:\n",
    "    name = i[2]\n",
    "    image = i[0]\n",
    "    if name<200000:\n",
    "        image.save(f'dataset/200/{name}.jpg')\n",
    "    else :\n",
    "        break"
   ]
  },
  {
   "cell_type": "code",
   "execution_count": 20,
   "metadata": {},
   "outputs": [],
   "source": [
    "dataload = unlabelledDataset('dataset/unlabelled/')"
   ]
  },
  {
   "cell_type": "code",
   "execution_count": 17,
   "metadata": {},
   "outputs": [
    {
     "name": "stdout",
     "output_type": "stream",
     "text": [
      "296874\n"
     ]
    }
   ],
   "source": [
    "print(len(dataload))"
   ]
  },
  {
   "cell_type": "code",
   "execution_count": 21,
   "metadata": {},
   "outputs": [],
   "source": [
    "for i in dataload:\n",
    "    name = i[2]\n",
    "    image = i[0]\n",
    "    if name<100000:\n",
    "        image.save(f'dataset/001/{name}.jpg')\n",
    "    elif name<200000:\n",
    "        image.save(f'dataset/002/{name}.jpg')\n",
    "    else :\n",
    "        break"
   ]
  },
  {
   "cell_type": "code",
   "execution_count": 16,
   "metadata": {},
   "outputs": [],
   "source": [
    "for i in DataLoader(dataload,batch_size=1,):\n",
    "    name = i[2]\n",
    "    image = torchvision.transforms.ToPILImage()(i[0].squeeze())\n",
    "    image.save(f'dataset/unlabelled_selected/{name}.jpg')\n",
    "    #torchvision.io.write_file(image_tensor, 'dataset/unlabelled_selected/')"
   ]
  },
  {
   "cell_type": "code",
   "execution_count": null,
   "metadata": {},
   "outputs": [],
   "source": []
  },
  {
   "cell_type": "code",
   "execution_count": 2,
   "metadata": {},
   "outputs": [
    {
     "ename": "TypeError",
     "evalue": "__init__() missing 1 required positional argument: 'degrees'",
     "output_type": "error",
     "traceback": [
      "\u001b[0;31m---------------------------------------------------------------------------\u001b[0m",
      "\u001b[0;31mTypeError\u001b[0m                                 Traceback (most recent call last)",
      "Cell \u001b[0;32mIn[2], line 1\u001b[0m\n\u001b[0;32m----> 1\u001b[0m torchvision\u001b[39m.\u001b[39;49mtransforms\u001b[39m.\u001b[39;49mRandomRotation()\n",
      "\u001b[0;31mTypeError\u001b[0m: __init__() missing 1 required positional argument: 'degrees'"
     ]
    }
   ],
   "source": [
    "torchvision.transforms.RandomRotation()"
   ]
  },
  {
   "cell_type": "code",
   "execution_count": 12,
   "metadata": {},
   "outputs": [
    {
     "data": {
      "text/plain": [
       "ColorJitter(brightness=None, contrast=None, saturation=None, hue=None)"
      ]
     },
     "execution_count": 12,
     "metadata": {},
     "output_type": "execute_result"
    }
   ],
   "source": [
    "torchvision.transforms.ColorJitter()"
   ]
  },
  {
   "cell_type": "code",
   "execution_count": 8,
   "metadata": {},
   "outputs": [],
   "source": [
    "dataset = torchvision.datasets.ImageFolder('dataset/train',transform=\n",
    "                                           torchvision.transforms.Compose([\n",
    "                                               torchvision.transforms.Resize([224,224]),\n",
    "                                               torchvision.transforms.ToTensor,\n",
    "                                               torchvision.transforms.Normalize(mean=[0.485, 0.456, 0.406],\n",
    "                                                                                std=[0.229, 0.224, 0.225]),\n",
    "                                           ]))"
   ]
  },
  {
   "cell_type": "code",
   "execution_count": 3,
   "metadata": {},
   "outputs": [],
   "source": [
    "train_dataset, val_dataset = torch.utils.data.random_split(\n",
    "            dataset,\n",
    "            [\n",
    "                int(0.8 * len(dataset)),\n",
    "                len(dataset) - int(0.8 * len(dataset)),\n",
    "            ],\n",
    "            generator=torch.Generator().manual_seed(3407),\n",
    "        )"
   ]
  },
  {
   "cell_type": "code",
   "execution_count": 4,
   "metadata": {},
   "outputs": [],
   "source": [
    "aug1 = torchvision.transforms.Compose([\n",
    "    torchvision.transforms.RandomHorizontalFlip(),\n",
    "    torchvision.transforms.GaussianBlur(kernel_size=7),\n",
    "    torchvision.transforms.GaussianBlur(kernel_size=9),\n",
    "    torchvision.transforms.Normalize(mean=[0.485, 0.456, 0.406],\n",
    "                                    std=[0.229, 0.224, 0.225]),\n",
    "])"
   ]
  },
  {
   "cell_type": "code",
   "execution_count": 9,
   "metadata": {},
   "outputs": [],
   "source": [
    "load1 = torch.utils.data.DataLoader(dataset,batch_size=10,shuffle=True,num_workers=8)"
   ]
  },
  {
   "cell_type": "code",
   "execution_count": 10,
   "metadata": {},
   "outputs": [
    {
     "data": {
      "text/plain": [
       "<torch.utils.data.dataloader.DataLoader at 0x286a3c280>"
      ]
     },
     "execution_count": 10,
     "metadata": {},
     "output_type": "execute_result"
    }
   ],
   "source": [
    "load1"
   ]
  },
  {
   "cell_type": "code",
   "execution_count": 31,
   "metadata": {},
   "outputs": [
    {
     "ename": "ValueError",
     "evalue": "only one element tensors can be converted to Python scalars",
     "output_type": "error",
     "traceback": [
      "\u001b[0;31m---------------------------------------------------------------------------\u001b[0m",
      "\u001b[0;31mValueError\u001b[0m                                Traceback (most recent call last)",
      "Cell \u001b[0;32mIn[31], line 5\u001b[0m\n\u001b[1;32m      3\u001b[0m \u001b[39mlist\u001b[39m\u001b[39m.\u001b[39mappend(testset)\n\u001b[1;32m      4\u001b[0m \u001b[39mlist\u001b[39m\u001b[39m.\u001b[39mappend(testset)\n\u001b[0;32m----> 5\u001b[0m torch\u001b[39m.\u001b[39;49mTensor(\u001b[39mlist\u001b[39;49m)\n",
      "\u001b[0;31mValueError\u001b[0m: only one element tensors can be converted to Python scalars"
     ]
    }
   ],
   "source": [
    "testset = torch.Tensor([[1,2],[1,2]])\n",
    "list=[]\n",
    "list.append(testset)\n",
    "list.append(testset)\n",
    "torch.Tensor(list)"
   ]
  },
  {
   "cell_type": "code",
   "execution_count": 34,
   "metadata": {},
   "outputs": [
    {
     "data": {
      "text/plain": [
       "[[1, 3, 4, 5, 6], [1, 3, 4, 2, 4]]"
      ]
     },
     "execution_count": 34,
     "metadata": {},
     "output_type": "execute_result"
    }
   ],
   "source": [
    "list = [[1,3,4,5,6],[1,3,4,2,4]]\n",
    "torch.tensor(list).tolist()"
   ]
  },
  {
   "cell_type": "code",
   "execution_count": 36,
   "metadata": {},
   "outputs": [
    {
     "data": {
      "text/plain": [
       "tensor(6)"
      ]
     },
     "execution_count": 36,
     "metadata": {},
     "output_type": "execute_result"
    }
   ],
   "source": [
    "test = torch.Tensor([1,3,5,2,1,4,8])\n",
    "test.argmax()"
   ]
  }
 ],
 "metadata": {
  "kernelspec": {
   "display_name": "torchpy",
   "language": "python",
   "name": "python3"
  },
  "language_info": {
   "codemirror_mode": {
    "name": "ipython",
    "version": 3
   },
   "file_extension": ".py",
   "mimetype": "text/x-python",
   "name": "python",
   "nbconvert_exporter": "python",
   "pygments_lexer": "ipython3",
   "version": "3.8.16"
  },
  "orig_nbformat": 4
 },
 "nbformat": 4,
 "nbformat_minor": 2
}
